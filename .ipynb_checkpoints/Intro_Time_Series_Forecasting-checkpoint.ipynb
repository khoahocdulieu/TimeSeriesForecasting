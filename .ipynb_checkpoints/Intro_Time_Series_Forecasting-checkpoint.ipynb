{
 "cells": [
  {
   "cell_type": "markdown",
   "metadata": {},
   "source": [
    "## Mở đầu về dự báo chuỗi thời gian: Lý thuyết và các phương pháp"
   ]
  },
  {
   "cell_type": "markdown",
   "metadata": {},
   "source": [
    "### 1. Mở đầu"
   ]
  },
  {
   "cell_type": "markdown",
   "metadata": {},
   "source": [
    "Phân tích và dự báo dữ liệu chuỗi thời gian ngày càng trở nên quan trọng do sản xuất dữ liệu chuỗi thời gian lớn và khi việc theo dõi và thu thập liên tục các dữ liệu đó trở nên phổ biến hơn, nhu cầu phân tích và dự báo hiệu quả hơn sẽ chỉ tăng lên\n",
    "\n",
    "Dự báo là một phương pháp hữu hiệu hỗ trợ quá trình ra quyết định, lựa chọn chính sách - chiến lược trong quản lý...Hiện nay dự báo đang trở thành một trong những khâu quan trọng ở các bộ phận hoạch định chiến lược ở tầm vĩ mô cũng như ở các đơn vị kinh doanh\n",
    "\n",
    " ít chuyên gia thực hành hơn các lĩnh vực khác của khoa học dữ liệu"
   ]
  },
  {
   "cell_type": "markdown",
   "metadata": {},
   "source": [
    "#### 1.1 Dữ liệu chuỗi thời gian là gì?"
   ]
  },
  {
   "cell_type": "markdown",
   "metadata": {},
   "source": [
    "Dữ liệu chuỗi thời gian (time series) được hiểu là một chuỗi các giá trị được thu thập theo từng khoảng khắc thời gian liền nhau theo một tần suất thời gian thống nhất:\n",
    "```\n",
    "X(t_0), x(t_1), ...,x(t_k),..., x(t_k+n),...\n",
    "```"
   ]
  },
  {
   "cell_type": "markdown",
   "metadata": {},
   "source": [
    "**Một số ví dụ về chuỗi thời gian:**\n",
    "\n",
    "- Dữ liệu sử dụng điện của một nhà máy\n",
    "- \n",
    "\n",
    "https://www.kaggle.com/shenba/time-series-datasets?select=Electric_Production.csv\n",
    "\n",
    "https://machinelearningmastery.com/time-series-datasets-for-machine-learning/"
   ]
  },
  {
   "cell_type": "markdown",
   "metadata": {},
   "source": [
    "#### 1.2 Phân biệt phân tích chuỗi thời gian (time series analysis) và dự báo chuỗi thời gian (time series forecasting)"
   ]
  },
  {
   "cell_type": "markdown",
   "metadata": {},
   "source": [
    "- time series forecasting is a form of predictive modeling\n",
    "\n",
    "- time series analysis is a form of descriptive modeling"
   ]
  },
  {
   "cell_type": "markdown",
   "metadata": {},
   "source": [
    "#### 1.3 Phân loại dự báo chuỗi thời gian"
   ]
  },
  {
   "cell_type": "markdown",
   "metadata": {},
   "source": [
    "##### 1.3.1 Dự báo đơn bước và đa bước  (One-Step và Multi-step Time Series Forecasting)\n",
    "\n",
    "Dự báo chuỗi thời gian là phương pháp dự báo giá trị bước thời gian tiếp theo của chuỗi thời gian. Ví dụ chúng ta có giá trị về... của 8 tháng:\n",
    "\n",
    "- 1 bước tức là dự báo giá trị tháng 9\n",
    "\n",
    "- Còn nhiều bước ví dụ như là dự báo giá trị 3 tháng tiếp theo (tháng 9, 10 và 11)"
   ]
  },
  {
   "cell_type": "markdown",
   "metadata": {},
   "source": [
    "```\n",
    "Time,\tTemperature\n",
    "1,\t\t56\n",
    "2,\t\t50\n",
    "3,\t\t59\n",
    "4,\t\t63\n",
    "5,\t\t52\n",
    "6,\t\t60\n",
    "7,\t\t55\n",
    "```"
   ]
  },
  {
   "cell_type": "markdown",
   "metadata": {},
   "source": [
    "**Có 4 kỹ thuật được sử dụng phổ biến trong dự báo đa bước đó là:**\n",
    "\n",
    "NGuồn: https://machinelearningmastery.com/multi-step-time-series-forecasting/#:~:text=some%20rights%20reserved.-,Multi%2DStep%20Forecasting,time%20steps%20must%20be%20predicted.\n",
    "\n",
    "**Kỹ thuật 1: Direct Multi-step Forecast Strategy**\n",
    "\n",
    "Xây dựng các mô hình đự báo riêng biệt cho từng bước\n",
    "\n",
    "```\n",
    "prediction(t+1) = model1(obs(t-1), obs(t-2), ..., obs(t-n))\n",
    "prediction(t+2) = model2(obs(t-2), obs(t-3), ..., obs(t-n))\n",
    "```\n",
    "\n",
    "**Nhược điểm:**\n",
    "\n",
    "**Kỹ thuật 2: Recursive Multi-step Forecast Strategy.**\n",
    "\n",
    "```\n",
    "prediction(t+1) = model(obs(t-1), obs(t-2), ..., obs(t-n))\n",
    "prediction(t+2) = model(prediction(t+1), obs(t-1), ..., obs(t-n))\n",
    "```\n",
    "**Kỹ thuật 3: Direct-Recursive Hybrid Multi-step Forecast Strategies.**\n",
    "\n",
    "```\n",
    "prediction(t+1) = model1(obs(t-1), obs(t-2), ..., obs(t-n))\n",
    "prediction(t+2) = model2(prediction(t+1), obs(t-1), ..., obs(t-n))\n",
    "```\n",
    "**Kỹ thuật 4: Multiple Output Forecast Strategy.**\n",
    "\n",
    "```\n",
    "prediction(t+1), prediction(t+2) = model(obs(t-1), obs(t-2), ..., obs(t-n))\n",
    "```"
   ]
  },
  {
   "cell_type": "markdown",
   "metadata": {},
   "source": [
    "##### 1.3.2  Phân biệt dự báo chuỗi thời gian đơn biến (Univariate) và đa biến (Multivariate)"
   ]
  },
  {
   "cell_type": "markdown",
   "metadata": {},
   "source": [
    "#### 1.4 Review các phương pháp dự báo chuỗi thời gian"
   ]
  },
  {
   "cell_type": "code",
   "execution_count": null,
   "metadata": {},
   "outputs": [],
   "source": []
  }
 ],
 "metadata": {
  "kernelspec": {
   "display_name": "Python 3",
   "language": "python",
   "name": "python3"
  },
  "language_info": {
   "codemirror_mode": {
    "name": "ipython",
    "version": 3
   },
   "file_extension": ".py",
   "mimetype": "text/x-python",
   "name": "python",
   "nbconvert_exporter": "python",
   "pygments_lexer": "ipython3",
   "version": "3.6.9"
  }
 },
 "nbformat": 4,
 "nbformat_minor": 2
}
